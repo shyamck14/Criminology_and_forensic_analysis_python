{
  "nbformat": 4,
  "nbformat_minor": 0,
  "metadata": {
    "colab": {
      "provenance": [],
      "authorship_tag": "ABX9TyPMF1BQVEbnXhtfzDqlBGmM",
      "include_colab_link": true
    },
    "kernelspec": {
      "name": "python3",
      "display_name": "Python 3"
    },
    "language_info": {
      "name": "python"
    }
  },
  "cells": [
    {
      "cell_type": "markdown",
      "metadata": {
        "id": "view-in-github",
        "colab_type": "text"
      },
      "source": [
        "<a href=\"https://colab.research.google.com/github/shyamck14/Criminology_and_forensic_analysis_python/blob/main/Criminology_forensic_analysis_python.ipynb\" target=\"_parent\"><img src=\"https://colab.research.google.com/assets/colab-badge.svg\" alt=\"Open In Colab\"/></a>"
      ]
    },
    {
      "cell_type": "code",
      "execution_count": 3,
      "metadata": {
        "colab": {
          "base_uri": "https://localhost:8080/"
        },
        "id": "ia0NXWXpH8ON",
        "outputId": "351500ae-9749-4602-e86f-55ea170a2c71"
      },
      "outputs": [
        {
          "output_type": "stream",
          "name": "stdout",
          "text": [
            "{'fraud': 3, 'theft': 2, 'murder': 1}\n"
          ]
        }
      ],
      "source": [
        "# Analysing criminal behavior patterns\n",
        "# To categorize crimes to analyse behavior patterns\n",
        "\n",
        "crimes = [\"fraud\",\"theft\",\"fraud\",\"murder\",\"theft\",\"fraud\"]\n",
        "crime_patterns = {}\n",
        "for crime in crimes:\n",
        "   if crime in crime_patterns:\n",
        "      crime_patterns[crime] += 1\n",
        "   else:\n",
        "      crime_patterns[crime] = 1\n",
        "print(crime_patterns)\n"
      ]
    }
  ]
}